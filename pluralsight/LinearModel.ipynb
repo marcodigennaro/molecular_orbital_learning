{
 "cells": [
  {
   "cell_type": "code",
   "execution_count": 1,
   "id": "28263f62",
   "metadata": {},
   "outputs": [],
   "source": [
    "import numpy as np\n",
    "import matplotlib.pyplot as plt"
   ]
  },
  {
   "cell_type": "code",
   "execution_count": 2,
   "id": "ddf40a2f",
   "metadata": {},
   "outputs": [
    {
     "data": {
      "image/png": "[encoded data removed]",
      "text/plain": [
       "<Figure size 640x480 with 1 Axes>"
      ]
     },
     "metadata": {},
     "output_type": "display_data"
    }
   ],
   "source": [
    "# import the required libraries\n",
    "import random\n",
    "\n",
    "# store the random numbers in a list\n",
    "\n",
    "mu = 100\n",
    "sigma = 50\n",
    "x = np.array([ [random.gauss(mu, sigma)] for i in range(10) ], dtype=np.float32)\n",
    "y = np.array([ _ + random.gauss(0, 50) for _ in x ])\n",
    "\n",
    "# plotting a graph\n",
    "plt.scatter(x, y) #, bins = 200)\n",
    "plt.show()\n"
   ]
  },
  {
   "cell_type": "code",
   "execution_count": 3,
   "id": "c22fe19c",
   "metadata": {},
   "outputs": [],
   "source": [
    "import torch"
   ]
  },
  {
   "cell_type": "code",
   "execution_count": 4,
   "id": "25713412",
   "metadata": {},
   "outputs": [
    {
     "data": {
      "text/plain": [
       "array([[132.76196  ],\n",
       "       [  2.1548882],\n",
       "       [ 19.721504 ],\n",
       "       [ 69.267105 ],\n",
       "       [ 99.30313  ],\n",
       "       [ 41.90458  ],\n",
       "       [-11.133339 ],\n",
       "       [102.0726   ],\n",
       "       [156.97775  ],\n",
       "       [-23.601076 ]], dtype=float32)"
      ]
     },
     "execution_count": 4,
     "metadata": {},
     "output_type": "execute_result"
    }
   ],
   "source": [
    "y"
   ]
  },
  {
   "cell_type": "code",
   "execution_count": 5,
   "id": "c34d908a",
   "metadata": {},
   "outputs": [],
   "source": [
    "X_train = torch.from_numpy(x)\n",
    "Y_train = torch.from_numpy(y)"
   ]
  },
  {
   "cell_type": "code",
   "execution_count": 6,
   "id": "bdd66808",
   "metadata": {},
   "outputs": [
    {
     "name": "stdout",
     "output_type": "stream",
     "text": [
      "requires_grad for X :  False\n",
      "requires_grad for Y :  False\n"
     ]
    }
   ],
   "source": [
    "print('requires_grad for X : ', X_train.requires_grad)\n",
    "print('requires_grad for Y : ', Y_train.requires_grad)"
   ]
  },
  {
   "cell_type": "code",
   "execution_count": 7,
   "id": "c41f63e7",
   "metadata": {},
   "outputs": [],
   "source": [
    "input_size = 1\n",
    "hidden_size = 1\n",
    "output_size = 1\n"
   ]
  },
  {
   "cell_type": "code",
   "execution_count": 8,
   "id": "d95ef4be",
   "metadata": {},
   "outputs": [
    {
     "data": {
      "text/plain": [
       "torch.Size([1, 1])"
      ]
     },
     "execution_count": 8,
     "metadata": {},
     "output_type": "execute_result"
    }
   ],
   "source": [
    "w1 = torch.rand(\n",
    "    input_size,\n",
    "    hidden_size,\n",
    "    requires_grad=True\n",
    "    )\n",
    "w1.shape"
   ]
  },
  {
   "cell_type": "code",
   "execution_count": 9,
   "id": "55320a4c",
   "metadata": {},
   "outputs": [
    {
     "data": {
      "text/plain": [
       "torch.Size([1, 1])"
      ]
     },
     "execution_count": 9,
     "metadata": {},
     "output_type": "execute_result"
    }
   ],
   "source": [
    "w2 = torch.rand(\n",
    "    hidden_size,\n",
    "    output_size,\n",
    "    requires_grad=True\n",
    "    )\n",
    "w2.shape"
   ]
  },
  {
   "cell_type": "code",
   "execution_count": 10,
   "id": "9e9e19d7",
   "metadata": {},
   "outputs": [],
   "source": [
    "learning_rate = 1e-6"
   ]
  },
  {
   "cell_type": "code",
   "execution_count": 11,
   "id": "b53fb330",
   "metadata": {},
   "outputs": [
    {
     "name": "stdout",
     "output_type": "stream",
     "text": [
      "100 33533.97265625 tensor([[0.8829]], requires_grad=True) tensor([[0.8539]], requires_grad=True)\n",
      "200 33533.97265625 tensor([[0.8829]], requires_grad=True) tensor([[0.8539]], requires_grad=True)\n",
      "300 33533.97265625 tensor([[0.8829]], requires_grad=True) tensor([[0.8539]], requires_grad=True)\n",
      "400 33533.97265625 tensor([[0.8829]], requires_grad=True) tensor([[0.8539]], requires_grad=True)\n",
      "500 33533.97265625 tensor([[0.8829]], requires_grad=True) tensor([[0.8539]], requires_grad=True)\n",
      "600 33533.97265625 tensor([[0.8829]], requires_grad=True) tensor([[0.8539]], requires_grad=True)\n",
      "700 33533.97265625 tensor([[0.8829]], requires_grad=True) tensor([[0.8539]], requires_grad=True)\n",
      "800 33533.97265625 tensor([[0.8829]], requires_grad=True) tensor([[0.8539]], requires_grad=True)\n",
      "900 33533.97265625 tensor([[0.8829]], requires_grad=True) tensor([[0.8539]], requires_grad=True)\n"
     ]
    }
   ],
   "source": [
    "for iter in range(1,1000):\n",
    "    y_pred = X_train.mm(w1).mm(w2)\n",
    "    loss = (y_pred - Y_train).pow(2).sum()\n",
    "    \n",
    "    if iter % 100 == 0:\n",
    "        print(iter, loss.item(), w1, w2)\n",
    "    loss.backward()\n",
    "    with torch.no_grad():\n",
    "        w1 -= learning_rate * w1.grad\n",
    "        w2 -= learning_rate * w2.grad\n",
    "        w1.grad.zero_()\n",
    "        w2.grad.zero_()"
   ]
  },
  {
   "cell_type": "code",
   "execution_count": 12,
   "id": "b0c822fd",
   "metadata": {},
   "outputs": [
    {
     "data": {
      "text/plain": [
       "tensor([[ 47.8547],\n",
       "        [ 28.2034],\n",
       "        [-23.8888],\n",
       "        [ 56.7601],\n",
       "        [134.2203],\n",
       "        [ 64.5452],\n",
       "        [119.0125],\n",
       "        [119.8065],\n",
       "        [ 79.0030],\n",
       "        [ 25.6988]])"
      ]
     },
     "execution_count": 12,
     "metadata": {},
     "output_type": "execute_result"
    }
   ],
   "source": [
    "x_train_tensor = torch.from_numpy(x)\n",
    "x_train_tensor"
   ]
  },
  {
   "cell_type": "code",
   "execution_count": 13,
   "id": "25c6d5f5",
   "metadata": {},
   "outputs": [
    {
     "data": {
      "text/plain": [
       "tensor([[ 36.0751],\n",
       "        [ 21.2610],\n",
       "        [-18.0085],\n",
       "        [ 42.7884],\n",
       "        [101.1815],\n",
       "        [ 48.6571],\n",
       "        [ 89.7171],\n",
       "        [ 90.3157],\n",
       "        [ 59.5562],\n",
       "        [ 19.3729]], grad_fn=<MmBackward0>)"
      ]
     },
     "execution_count": 13,
     "metadata": {},
     "output_type": "execute_result"
    }
   ],
   "source": [
    "predicted_in_tensor = x_train_tensor.mm(w1).mm(w2)\n",
    "predicted_in_tensor"
   ]
  },
  {
   "cell_type": "code",
   "execution_count": 14,
   "id": "2fab586d",
   "metadata": {},
   "outputs": [
    {
     "data": {
      "text/plain": [
       "array([[ 36.075077],\n",
       "       [ 21.26105 ],\n",
       "       [-18.0085  ],\n",
       "       [ 42.78838 ],\n",
       "       [101.18151 ],\n",
       "       [ 48.657135],\n",
       "       [ 89.71715 ],\n",
       "       [ 90.31574 ],\n",
       "       [ 59.556156],\n",
       "       [ 19.372917]], dtype=float32)"
      ]
     },
     "execution_count": 14,
     "metadata": {},
     "output_type": "execute_result"
    }
   ],
   "source": [
    "predicted = predicted_in_tensor.detach().numpy()\n",
    "predicted"
   ]
  },
  {
   "cell_type": "code",
   "execution_count": 15,
   "id": "62d61620",
   "metadata": {},
   "outputs": [
    {
     "data": {
      "image/png": "[encoded data removed]",
      "text/plain": [
       "<Figure size 1200x800 with 1 Axes>"
      ]
     },
     "metadata": {},
     "output_type": "display_data"
    }
   ],
   "source": [
    "plt.figure(figsize=(12, 8))\n",
    "\n",
    "plt.scatter(x, y, label = 'Original data', s=250, c='g') \n",
    "\n",
    "plt.plot(x, predicted, label = 'Fitted line ')\n",
    "\n",
    "plt.legend() \n",
    "\n",
    "plt.show()"
   ]
  },
  {
   "cell_type": "code",
   "execution_count": null,
   "id": "e6801c65",
   "metadata": {},
   "outputs": [],
   "source": []
  }
 ],
 "metadata": {
  "kernelspec": {
   "display_name": "Python 3 (ipykernel)",
   "language": "python",
   "name": "python3"
  },
  "language_info": {
   "codemirror_mode": {
    "name": "ipython",
    "version": 3
   },
   "file_extension": ".py",
   "mimetype": "text/x-python",
   "name": "python",
   "nbconvert_exporter": "python",
   "pygments_lexer": "ipython3",
   "version": "3.10.9"
  }
 },
 "nbformat": 4,
 "nbformat_minor": 5
}
