{
 "cells": [
  {
   "cell_type": "code",
   "execution_count": 1,
   "id": "4ca46740",
   "metadata": {},
   "outputs": [],
   "source": [
    "import torch"
   ]
  },
  {
   "cell_type": "code",
   "execution_count": 3,
   "id": "de8db0ff",
   "metadata": {},
   "outputs": [],
   "source": [
    "t1 = torch.Tensor([[1,2,3],\n",
    "                  [4,5,6]])\n",
    "t2 = torch.Tensor([[7,8,9],\n",
    "                  [10,11,12]])"
   ]
  },
  {
   "cell_type": "code",
   "execution_count": 5,
   "id": "7159745a",
   "metadata": {},
   "outputs": [
    {
     "data": {
      "text/plain": [
       "tensor([[1., 2., 3.],\n",
       "        [4., 5., 6.]], requires_grad=True)"
      ]
     },
     "execution_count": 5,
     "metadata": {},
     "output_type": "execute_result"
    }
   ],
   "source": [
    "t1.requires_grad_()\n",
    "t2.requires_grad_()"
   ]
  },
  {
   "cell_type": "code",
   "execution_count": 7,
   "id": "c059ed07",
   "metadata": {},
   "outputs": [],
   "source": [
    "t1.grad_fn"
   ]
  },
  {
   "cell_type": "code",
   "execution_count": 12,
   "id": "e4f8aa81",
   "metadata": {},
   "outputs": [],
   "source": [
    "out_t = t1*t2\n",
    "out_t = (t1*t2).mean()"
   ]
  },
  {
   "cell_type": "code",
   "execution_count": 14,
   "id": "dd2f8cc5",
   "metadata": {},
   "outputs": [
    {
     "name": "stdout",
     "output_type": "stream",
     "text": [
      "True\n",
      "<MeanBackward0 object at 0x7fc92a35d690>\n"
     ]
    }
   ],
   "source": [
    "print(out_t.requires_grad)\n",
    "print(out_t.grad_fn)"
   ]
  },
  {
   "cell_type": "code",
   "execution_count": 15,
   "id": "b9fa349d",
   "metadata": {},
   "outputs": [],
   "source": [
    "out_t.backward()"
   ]
  },
  {
   "cell_type": "code",
   "execution_count": 16,
   "id": "f71a010d",
   "metadata": {},
   "outputs": [
    {
     "data": {
      "text/plain": [
       "tensor([[1.1667, 1.3333, 1.5000],\n",
       "        [1.6667, 1.8333, 2.0000]])"
      ]
     },
     "execution_count": 16,
     "metadata": {},
     "output_type": "execute_result"
    }
   ],
   "source": [
    "t1.grad"
   ]
  },
  {
   "cell_type": "code",
   "execution_count": 17,
   "id": "1e34bd2e",
   "metadata": {},
   "outputs": [],
   "source": [
    "@torch.no_grad()\n",
    "def calculate(t):\n",
    "    return t * 2"
   ]
  },
  {
   "cell_type": "code",
   "execution_count": 18,
   "id": "bd37e561",
   "metadata": {},
   "outputs": [],
   "source": [
    "from torch.autograd import Variable"
   ]
  },
  {
   "cell_type": "code",
   "execution_count": null,
   "id": "b932c389",
   "metadata": {},
   "outputs": [],
   "source": []
  }
 ],
 "metadata": {
  "kernelspec": {
   "display_name": "Python 3 (ipykernel)",
   "language": "python",
   "name": "python3"
  },
  "language_info": {
   "codemirror_mode": {
    "name": "ipython",
    "version": 3
   },
   "file_extension": ".py",
   "mimetype": "text/x-python",
   "name": "python",
   "nbconvert_exporter": "python",
   "pygments_lexer": "ipython3",
   "version": "3.10.9"
  }
 },
 "nbformat": 4,
 "nbformat_minor": 5
}
