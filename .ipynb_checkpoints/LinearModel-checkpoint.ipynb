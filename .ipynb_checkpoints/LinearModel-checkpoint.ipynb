{
 "cells": [
  {
   "cell_type": "code",
   "execution_count": 4,
   "id": "28263f62",
   "metadata": {},
   "outputs": [],
   "source": [
    "import numpy as np\n",
    "import matplotlib.pyplot as plt"
   ]
  },
  {
   "cell_type": "code",
   "execution_count": 17,
   "id": "ddf40a2f",
   "metadata": {},
   "outputs": [
    {
     "data": {
      "image/png": "[encoded data removed]",
      "text/plain": [
       "<Figure size 640x480 with 1 Axes>"
      ]
     },
     "metadata": {},
     "output_type": "display_data"
    }
   ],
   "source": [
    "# import the required libraries\n",
    "import random\n",
    "\n",
    "# store the random numbers in a list\n",
    "\n",
    "mu = 100\n",
    "sigma = 50\n",
    "x = np.array([ random.gauss(mu, sigma) for i in range(100) ])\n",
    "y = np.array([ _ + random.gauss(mu, sigma) for _ in x ])\n",
    "\n",
    "# plotting a graph\n",
    "plt.scatter(x, y) #, bins = 200)\n",
    "plt.show()\n"
   ]
  },
  {
   "cell_type": "code",
   "execution_count": 18,
   "id": "5e6bc911",
   "metadata": {},
   "outputs": [],
   "source": [
    "import torch"
   ]
  },
  {
   "cell_type": "code",
   "execution_count": 20,
   "id": "fa000da7",
   "metadata": {},
   "outputs": [],
   "source": [
    "X_train = torch.from_numpy(x)\n",
    "Y_train = torch.from_numpy(y)"
   ]
  },
  {
   "cell_type": "code",
   "execution_count": 24,
   "id": "fcd6a088",
   "metadata": {},
   "outputs": [
    {
     "name": "stdout",
     "output_type": "stream",
     "text": [
      "requires_grad for X :  False\n",
      "requires_grad for Y :  False\n"
     ]
    }
   ],
   "source": [
    "print('requires_grad for X : ', X_train.requires_grad)\n",
    "print('requires_grad for Y : ', Y_train.requires_grad)"
   ]
  },
  {
   "cell_type": "code",
   "execution_count": 25,
   "id": "0adf356f",
   "metadata": {},
   "outputs": [],
   "source": [
    "input_size = 1\n",
    "hidden_size = 1\n",
    "output_size = 1\n"
   ]
  },
  {
   "cell_type": "code",
   "execution_count": 27,
   "id": "aefea6b2",
   "metadata": {},
   "outputs": [
    {
     "data": {
      "text/plain": [
       "torch.Size([1, 1])"
      ]
     },
     "execution_count": 27,
     "metadata": {},
     "output_type": "execute_result"
    }
   ],
   "source": [
    "w1 = torch.rand(\n",
    "    input_size,\n",
    "    hidden_size,\n",
    "    requires_grad=True\n",
    "    )\n",
    "w1.shape"
   ]
  },
  {
   "cell_type": "code",
   "execution_count": 28,
   "id": "80d706a6",
   "metadata": {},
   "outputs": [
    {
     "data": {
      "text/plain": [
       "torch.Size([1, 1])"
      ]
     },
     "execution_count": 28,
     "metadata": {},
     "output_type": "execute_result"
    }
   ],
   "source": [
    "w2 = torch.rand(\n",
    "    hidden_size,\n",
    "    output_size,\n",
    "    requires_grad=True\n",
    "    )\n",
    "w2.shape"
   ]
  },
  {
   "cell_type": "code",
   "execution_count": 29,
   "id": "3218dd45",
   "metadata": {},
   "outputs": [],
   "source": [
    "learning_rate = 1e-6"
   ]
  },
  {
   "cell_type": "code",
   "execution_count": null,
   "id": "bdf234f9",
   "metadata": {},
   "outputs": [],
   "source": [
    "for iter in range(1,10):\n",
    "    y_pred = X_train.mm(w1).mm(w2)\n",
    "    loss = (y_pred - Y_train).pow(2).sum()\n",
    "    \n",
    "    if iter % 50 == 0:\n",
    "        print(iter, loss.item())\n",
    "        "
   ]
  }
 ],
 "metadata": {
  "kernelspec": {
   "display_name": "Python 3 (ipykernel)",
   "language": "python",
   "name": "python3"
  },
  "language_info": {
   "codemirror_mode": {
    "name": "ipython",
    "version": 3
   },
   "file_extension": ".py",
   "mimetype": "text/x-python",
   "name": "python",
   "nbconvert_exporter": "python",
   "pygments_lexer": "ipython3",
   "version": "3.10.9"
  }
 },
 "nbformat": 4,
 "nbformat_minor": 5
}
